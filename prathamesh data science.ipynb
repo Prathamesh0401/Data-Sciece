{
 "cells": [
  {
   "cell_type": "code",
   "execution_count": 2,
   "id": "55a5def3-f3c7-4890-843f-3ba21b0a85b3",
   "metadata": {},
   "outputs": [
    {
     "name": "stdout",
     "output_type": "stream",
     "text": [
      "HELLO WORLD!\n"
     ]
    }
   ],
   "source": [
    "print ('HELLO WORLD!')"
   ]
  },
  {
   "cell_type": "code",
   "execution_count": 3,
   "id": "d3946b9b-e95e-4341-9474-588e4aa409df",
   "metadata": {},
   "outputs": [
    {
     "name": "stdout",
     "output_type": "stream",
     "text": [
      "SNEHA\n"
     ]
    }
   ],
   "source": [
    "print('SNEHA')"
   ]
  },
  {
   "cell_type": "code",
   "execution_count": 9,
   "id": "70533679-778d-4cbe-93c8-9d924db232a7",
   "metadata": {},
   "outputs": [
    {
     "name": "stdout",
     "output_type": "stream",
     "text": [
      "15\n"
     ]
    }
   ],
   "source": [
    "x*10\n",
    "y*5\n",
    "print(x+y)"
   ]
  },
  {
   "cell_type": "code",
   "execution_count": 10,
   "id": "c8998095-0449-4ce5-88fa-3b21a2ecdf94",
   "metadata": {},
   "outputs": [
    {
     "name": "stdout",
     "output_type": "stream",
     "text": [
      "2.0\n"
     ]
    }
   ],
   "source": [
    "x*10\n",
    "y*5\n",
    "print(x/y)"
   ]
  },
  {
   "cell_type": "code",
   "execution_count": 11,
   "id": "902a0135-6730-427d-943d-8bcfcc203aa1",
   "metadata": {},
   "outputs": [
    {
     "name": "stdout",
     "output_type": "stream",
     "text": [
      "50\n"
     ]
    }
   ],
   "source": [
    "x*10\n",
    "y*5\n",
    "print(x*y)"
   ]
  },
  {
   "cell_type": "code",
   "execution_count": 12,
   "id": "b8aa741b-d95b-4664-b02e-2f4ec537183e",
   "metadata": {},
   "outputs": [
    {
     "name": "stdout",
     "output_type": "stream",
     "text": [
      "5\n"
     ]
    }
   ],
   "source": [
    "x*10\n",
    "y*5\n",
    "print(x-y)"
   ]
  },
  {
   "cell_type": "code",
   "execution_count": null,
   "id": "42007d9f-e71d-4ce9-956c-a00c81a331a2",
   "metadata": {},
   "outputs": [],
   "source": []
  }
 ],
 "metadata": {
  "kernelspec": {
   "display_name": "Python 3 (ipykernel)",
   "language": "python",
   "name": "python3"
  },
  "language_info": {
   "codemirror_mode": {
    "name": "ipython",
    "version": 3
   },
   "file_extension": ".py",
   "mimetype": "text/x-python",
   "name": "python",
   "nbconvert_exporter": "python",
   "pygments_lexer": "ipython3",
   "version": "3.11.7"
  }
 },
 "nbformat": 4,
 "nbformat_minor": 5
}
